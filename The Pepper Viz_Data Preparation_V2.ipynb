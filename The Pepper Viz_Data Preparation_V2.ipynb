{
 "cells": [
  {
   "cell_type": "markdown",
   "metadata": {},
   "source": [
    "# The Pepper Viz, Part 1: Data Preparation\n",
    "\n",
    "### The goal of this project is to create visualizations around spicy peppers. That all starts with a set of data for use to work with and visualize. In this notebook we will:\n",
    "\n",
    "* Scrape our data source website\n",
    "* Format the data\n",
    "* Export it into a static, easy to use format"
   ]
  },
  {
   "cell_type": "code",
   "execution_count": 1,
   "metadata": {},
   "outputs": [],
   "source": [
    "import numpy as np\n",
    "import pandas as pd\n",
    "import requests"
   ]
  },
  {
   "cell_type": "markdown",
   "metadata": {},
   "source": [
    "## Scraping the Data\n",
    "\n",
    "#### First we need to scrape a website with the available information. For this I chose PepperScale.com which has the most extensive list that I've found.\n",
    "* https://www.pepperscale.com/hot-pepper-list/\n",
    "\n",
    "#### As I failed multiple time to solve this problem myself I reverted to asking the StackOverflow community: https://stackoverflow.com/questions/60327851/trouble-scraping-a-responsive-bootstrap-table/60328204#60328204\n",
    "\n",
    "The issue comes directly from scraping a bootstrap table that doesn't naturally put it's options (pages, filters, etc) in the browser header. The answer give more detail on his methodology and how he set up this POST request that was neccessary to solve.\n",
    "\n",
    "##### With this solution you may have to use the Chrome Network Logger to update \"wdtNonce\" with each browser session"
   ]
  },
  {
   "cell_type": "code",
   "execution_count": 3,
   "metadata": {},
   "outputs": [],
   "source": [
    "url = \"https://www.pepperscale.com/wp-admin/admin-ajax.php?action=get_wdtable&table_id=5\"\n",
    "\n",
    "data = {\n",
    "    \"draw\": \"2\",\n",
    "    \"columns[0][data]\": \"0\",\n",
    "    \"columns[0][name]\": \"wdt_ID\",\n",
    "    \"columns[0][searchable]\": \"true\",\n",
    "    \"columns[0][orderable]\": \"true\",\n",
    "    \"columns[0][search][value]\": \"\",\n",
    "    \"columns[0][search][regex]\": \"false\",\n",
    "    \"columns[1][data]\": \"1\",\n",
    "    \"columns[1][name]\": \"heat\",\n",
    "    \"columns[1][searchable]\": \"true\",\n",
    "    \"columns[1][orderable]\": \"true\",\n",
    "    \"columns[1][search][value]\": \"\",\n",
    "    \"columns[1][search][regex]\": \"false\",\n",
    "    \"columns[2][data]\": \"2\",\n",
    "    \"columns[2][name]\": \"image\",\n",
    "    \"columns[2][searchable]\": \"true\",\n",
    "    \"columns[2][orderable]\": \"false\",\n",
    "    \"columns[2][search][value]\": \"\",\n",
    "    \"columns[2][search][regex]\": \"false\",\n",
    "    \"columns[3][data]\": \"3\",\n",
    "    \"columns[3][name]\": \"hotpepper\",\n",
    "    \"columns[3][searchable]\": \"true\",\n",
    "    \"columns[3][orderable]\": \"true\",\n",
    "    \"columns[3][search][value]\": \"\",\n",
    "    \"columns[3][search][regex]\": \"false\",\n",
    "    \"columns[4][data]\": \"4\",\n",
    "    \"columns[4][name]\": \"minshu\",\n",
    "    \"columns[4][searchable]\": \"true\",\n",
    "    \"columns[4][orderable]\": \"true\",\n",
    "    \"columns[4][search][value]\": \"\",\n",
    "    \"columns[4][search][regex]\": \"false\",\n",
    "    \"columns[5][data]\": \"5\",\n",
    "    \"columns[5][name]\": \"maxshu\",\n",
    "    \"columns[5][searchable]\": \"true\",\n",
    "    \"columns[5][orderable]\": \"false\",\n",
    "    \"columns[5][search][value]\": \"\",\n",
    "    \"columns[5][search][regex]\": \"false\",\n",
    "    \"columns[6][data]\": \"6\",\n",
    "    \"columns[6][name]\": \"formula_1\",\n",
    "    \"columns[6][searchable]\": \"false\",\n",
    "    \"columns[6][orderable]\": \"false\",\n",
    "    \"columns[6][search][value]\": \"\",\n",
    "    \"columns[6][search][regex]\": \"false\",\n",
    "    \"columns[7][data]\": \"7\",\n",
    "    \"columns[7][name]\": \"formula_2\",\n",
    "    \"columns[7][searchable]\": \"false\",\n",
    "    \"columns[7][orderable]\": \"false\",\n",
    "    \"columns[7][search][value]\": \"\",\n",
    "    \"columns[7][search][regex]\": \"false\",\n",
    "    \"columns[8][data]\": \"8\",\n",
    "    \"columns[8][name]\": \"jalrp\",\n",
    "    \"columns[8][searchable]\": \"true\",\n",
    "    \"columns[8][orderable]\": \"false\",\n",
    "    \"columns[8][search][value]\": \"\",\n",
    "    \"columns[8][search][regex]\": \"false\",\n",
    "    \"columns[9][data]\": \"9\",\n",
    "    \"columns[9][name]\": \"type\",\n",
    "    \"columns[9][searchable]\": \"true\",\n",
    "    \"columns[9][orderable]\": \"true\",\n",
    "    \"columns[9][search][value]\": \"\",\n",
    "    \"columns[9][search][regex]\": \"false\",\n",
    "    \"columns[10][data]\": \"10\",\n",
    "    \"columns[10][name]\": \"origin\",\n",
    "    \"columns[10][searchable]\": \"true\",\n",
    "    \"columns[10][orderable]\": \"false\",\n",
    "    \"columns[10][search][value]\": \"\",\n",
    "    \"columns[10][search][regex]\": \"false\",\n",
    "    \"columns[11][data]\": \"11\",\n",
    "    \"columns[11][name]\": \"use\",\n",
    "    \"columns[11][searchable]\": \"true\",\n",
    "    \"columns[11][orderable]\": \"false\",\n",
    "    \"columns[11][search][value]\": \"\",\n",
    "    \"columns[11][search][regex]\": \"false\",\n",
    "    \"columns[12][data]\": \"12\",\n",
    "    \"columns[12][name]\": \"flavor\",\n",
    "    \"columns[12][searchable]\": \"true\",\n",
    "    \"columns[12][orderable]\": \"false\",\n",
    "    \"columns[12][search][value]\": \"\",\n",
    "    \"columns[12][search][regex]\": \"false\",\n",
    "    \"order[0][column]\": \"5\",\n",
    "    \"order[0][dir]\": \"asc\",\n",
    "    \"start\": \"0\",\n",
    "    \"length\": \"-1\",\n",
    "    \"search[value]\": \"\",\n",
    "    \"search[regex]\": \"false\",\n",
    "    \"wdtNonce\": \"36e9e6949c\" #if response is blank update this value (see above)\n",
    "}"
   ]
  },
  {
   "cell_type": "code",
   "execution_count": 4,
   "metadata": {},
   "outputs": [
    {
     "name": "stderr",
     "output_type": "stream",
     "text": [
      "C:\\Users\\u104404\\AppData\\Local\\Continuum\\anaconda3\\lib\\site-packages\\urllib3\\connectionpool.py:847: InsecureRequestWarning: Unverified HTTPS request is being made. Adding certificate verification is strongly advised. See: https://urllib3.readthedocs.io/en/latest/advanced-usage.html#ssl-warnings\n",
      "  InsecureRequestWarning)\n"
     ]
    }
   ],
   "source": [
    "response = requests.post(url, data=data, verify=False)\n",
    "response.raise_for_status()\n",
    "\n",
    "# response.text"
   ]
  },
  {
   "cell_type": "code",
   "execution_count": 5,
   "metadata": {},
   "outputs": [],
   "source": [
    "peppers = response.json()\n",
    "peppers = pd.DataFrame(peppers['data'])"
   ]
  },
  {
   "cell_type": "code",
   "execution_count": null,
   "metadata": {},
   "outputs": [],
   "source": [
    "peppers.columns = (\"wdt_ID\", 'Heat', 'Image', 'Pepper', 'Min SHU', 'Max SHU', 'Median SHU', 'JalRP',\n",
    "       'JalRP Times Hotter/Milder', 'Type', 'Origin', 'Use', 'Flavor')\n",
    "peppers"
   ]
  },
  {
   "cell_type": "markdown",
   "metadata": {},
   "source": [
    "## Prepping the Data\n",
    "\n",
    "Now that we have the data in it's basic format, we will look at preparing the data for our use. Here are some things we need to accomplish at the step.\n",
    "1. Formatting the linked content in both the Image columns to just keep the link. \n",
    "2. Formatting the Pepper Column into two columns.\n",
    "    * The first column will have the actually pepper name. \n",
    "    * The other with the link to pepper's reference page.\n",
    "3. Titlecase the 'Type' column to standardize table typecase.\n",
    "4. Convert numeric columns to correct data types. (Remove thousands separators)\n",
    "5. (Optional) Decide how to best format the \"Flavor\" category to make it easily searchable/filterable in our visualization."
   ]
  },
  {
   "cell_type": "markdown",
   "metadata": {},
   "source": [
    "### Ad Hoc Changes\n",
    "* United States and USA"
   ]
  },
  {
   "cell_type": "code",
   "execution_count": null,
   "metadata": {},
   "outputs": [],
   "source": [
    "sorted(peppers['Origin'])"
   ]
  },
  {
   "cell_type": "markdown",
   "metadata": {},
   "source": [
    "### 1.) Getting the Image Link"
   ]
  },
  {
   "cell_type": "code",
   "execution_count": 26,
   "metadata": {},
   "outputs": [
    {
     "data": {
      "text/plain": [
       "'https://www.pepperscale.com/wp-content/uploads/2015/10/melrose-pepper.jpg'"
      ]
     },
     "execution_count": 26,
     "metadata": {},
     "output_type": "execute_result"
    }
   ],
   "source": [
    "# Retrieving the image link for one row\n",
    "peppers['Image'][3][9:].split('?')[0]"
   ]
  },
  {
   "cell_type": "code",
   "execution_count": null,
   "metadata": {},
   "outputs": [],
   "source": [
    "peppers['Image'] = peppers[\"Image\"].apply(lambda x: x[9:].split('?')[0])\n",
    "peppers['Image'][0] = peppers['Image'][0].split(\"'\")[0] # Bell Pepper Exception\n",
    "peppers"
   ]
  },
  {
   "cell_type": "markdown",
   "metadata": {},
   "source": [
    "### 2.) Splitting and Formatting the Pepper Name and Reference Page"
   ]
  },
  {
   "cell_type": "code",
   "execution_count": 28,
   "metadata": {},
   "outputs": [
    {
     "data": {
      "text/plain": [
       "\"<a data-content='Bishop's Crown Pepper' href='https://www.pepperscale.com/bishops-crown-pepper' target='_blank'>Bishop's Crown Pepper</a>\""
      ]
     },
     "execution_count": 28,
     "metadata": {},
     "output_type": "execute_result"
    }
   ],
   "source": [
    "peppers['Pepper'][61]"
   ]
  },
  {
   "cell_type": "code",
   "execution_count": 29,
   "metadata": {},
   "outputs": [
    {
     "data": {
      "text/plain": [
       "['<a data-content',\n",
       " \"'Bishop's Crown Pepper' href\",\n",
       " \"'https://www.pepperscale.com/bishops-crown-pepper' target\",\n",
       " \"'_blank'>Bishop's Crown Pepper</a>\"]"
      ]
     },
     "execution_count": 29,
     "metadata": {},
     "output_type": "execute_result"
    }
   ],
   "source": [
    "peppers['Pepper'][61].split(\"=\")"
   ]
  },
  {
   "cell_type": "code",
   "execution_count": 30,
   "metadata": {},
   "outputs": [],
   "source": [
    "# Getting the name\n",
    "psn = peppers['Pepper'][61].split(\"=\")[1][1:-6]\n",
    "\n",
    "# Getting the URL\n",
    "psu = peppers['Pepper'][61].split(\"=\")[2].split(\"'\")[1]"
   ]
  },
  {
   "cell_type": "code",
   "execution_count": 31,
   "metadata": {},
   "outputs": [
    {
     "data": {
      "text/plain": [
       "['<a data-content',\n",
       " \"'Gypsy Pepper' href\",\n",
       " \"'https://www.pepperscale.com/gypsy-pepper' target\",\n",
       " \"'_blank'>Gypsy Pepper</a>\"]"
      ]
     },
     "execution_count": 31,
     "metadata": {},
     "output_type": "execute_result"
    }
   ],
   "source": [
    "# Splitting the Pepper column for one row\n",
    "pepper_split = peppers['Pepper'][1].split(\"=\")\n",
    "\n",
    "pepper_split # Need items 1, and 3"
   ]
  },
  {
   "cell_type": "code",
   "execution_count": null,
   "metadata": {},
   "outputs": [],
   "source": [
    "# Capture the link before capturing the pepper name so the link isn't overwritten\n",
    "peppers['Link'] = peppers[\"Pepper\"].apply(lambda x: x.split(\"=\")[2].split(\"'\")[1])\n",
    "peppers['Pepper'] = peppers[\"Pepper\"].apply(lambda x: x.split(\"=\")[1][1:-6])\n",
    "peppers"
   ]
  },
  {
   "cell_type": "markdown",
   "metadata": {},
   "source": [
    "### 3.) Titlecase the Type Row and Set Index"
   ]
  },
  {
   "cell_type": "code",
   "execution_count": null,
   "metadata": {},
   "outputs": [],
   "source": [
    "peppers['Type'] = peppers['Type'].apply(lambda x: x.title())\n",
    "peppers.set_index('wdt_ID', inplace=True)\n",
    "peppers"
   ]
  },
  {
   "cell_type": "markdown",
   "metadata": {},
   "source": [
    "### 4.) Applying the Correct Data Types to Each Column\n",
    "#### Resources:\n",
    "* https://stackoverflow.com/questions/1779288/how-to-convert-a-string-to-a-number-if-it-has-commas-in-it-as-thousands-separato"
   ]
  },
  {
   "cell_type": "code",
   "execution_count": 34,
   "metadata": {},
   "outputs": [
    {
     "data": {
      "text/plain": [
       "1000000"
      ]
     },
     "execution_count": 34,
     "metadata": {},
     "output_type": "execute_result"
    }
   ],
   "source": [
    "import locale\n",
    "locale.setlocale( locale.LC_ALL, 'en_US.UTF-8' ) \n",
    "locale.atoi('1,000,000')"
   ]
  },
  {
   "cell_type": "code",
   "execution_count": 35,
   "metadata": {},
   "outputs": [
    {
     "data": {
      "text/plain": [
       "Heat                         object\n",
       "Image                        object\n",
       "Pepper                       object\n",
       "Min SHU                       int64\n",
       "Max SHU                       int64\n",
       "Median SHU                    int64\n",
       "JalRP                        object\n",
       "JalRP Times Hotter/Milder    object\n",
       "Type                         object\n",
       "Origin                       object\n",
       "Use                          object\n",
       "Flavor                       object\n",
       "Link                         object\n",
       "dtype: object"
      ]
     },
     "execution_count": 35,
     "metadata": {},
     "output_type": "execute_result"
    }
   ],
   "source": [
    "peppers['Min SHU'] = peppers['Min SHU'].apply(lambda x: locale.atoi(x))\n",
    "peppers['Max SHU'] = peppers['Max SHU'].apply(lambda x: locale.atoi(x))\n",
    "peppers['Median SHU'] = peppers['Median SHU'].apply(lambda x: locale.atoi(x))\n",
    "\n",
    "peppers.dtypes"
   ]
  },
  {
   "cell_type": "markdown",
   "metadata": {},
   "source": [
    "## Exporting the Data\n",
    "\n",
    "For ease of use in the future we will export this table and reload it going forward. This is mostly to save time because of the verification that is needed when scraping the data that requires to retrieve a specific key. Since the list is still being updated, we will later look at a process to retrieve an updated table every week or month."
   ]
  },
  {
   "cell_type": "code",
   "execution_count": 64,
   "metadata": {},
   "outputs": [],
   "source": [
    "peppers.to_csv('outputs\\pepper_list.csv')\n",
    "peppers.to_excel('outputs\\pepper_list.xlsx', sheet_name=\"Pepper List\")"
   ]
  },
  {
   "cell_type": "markdown",
   "metadata": {},
   "source": [
    "### We have completed the data preparation process and can now proceed to Data Exploration and Visualization! Open the next notebook to continue."
   ]
  }
 ],
 "metadata": {
  "kernelspec": {
   "display_name": "Python 3",
   "language": "python",
   "name": "python3"
  },
  "language_info": {
   "codemirror_mode": {
    "name": "ipython",
    "version": 3
   },
   "file_extension": ".py",
   "mimetype": "text/x-python",
   "name": "python",
   "nbconvert_exporter": "python",
   "pygments_lexer": "ipython3",
   "version": "3.7.3"
  }
 },
 "nbformat": 4,
 "nbformat_minor": 2
}
